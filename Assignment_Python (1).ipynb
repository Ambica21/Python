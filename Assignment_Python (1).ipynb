{
  "cells": [
    {
      "cell_type": "code",
      "execution_count": null,
      "metadata": {
        "id": "cEXYLR9WI4hx"
      },
      "outputs": [],
      "source": [
        "\"\" Q. Explain the key features of Python that make it a popular choice for programing.\n",
        "   # It is  easy to learn and understand\n",
        "   # It is open and free to use by anyone\n",
        "   #Python is being called as user friendly because it is more simpler and easier in comparison of other languages\n",
        "   #It has  large library also\n",
        "\n",
        "   \"\""
      ]
    },
    {
      "cell_type": "code",
      "execution_count": null,
      "metadata": {
        "id": "zQcBf7kFROwV"
      },
      "outputs": [],
      "source": [
        "#Q. Describe the Role of predefined keywords in Python and provide examples of how they are used in a program."
      ]
    },
    {
      "cell_type": "code",
      "execution_count": null,
      "metadata": {
        "colab": {
          "base_uri": "https://localhost:8080/"
        },
        "id": "1i3cyCK5hiMS",
        "outputId": "5383f041-38bf-4748-d0a1-d4a8bf837e5f"
      },
      "outputs": [
        {
          "output_type": "stream",
          "name": "stdout",
          "text": [
            "\n",
            "Here is a list of the Python keywords.  Enter any keyword to get more help.\n",
            "\n",
            "False               class               from                or\n",
            "None                continue            global              pass\n",
            "True                def                 if                  raise\n",
            "and                 del                 import              return\n",
            "as                  elif                in                  try\n",
            "assert              else                is                  while\n",
            "async               except              lambda              with\n",
            "await               finally             nonlocal            yield\n",
            "break               for                 not                 \n",
            "\n"
          ]
        }
      ],
      "source": [
        "help('keywords')"
      ]
    },
    {
      "cell_type": "code",
      "source": [
        " #Q. Discuss the different types of operators in python and provide examples of how they are used ."
      ],
      "metadata": {
        "id": "5PbjDIdbGAVv"
      },
      "execution_count": null,
      "outputs": []
    },
    {
      "cell_type": "code",
      "execution_count": null,
      "metadata": {
        "id": "KU1frewyV8uU"
      },
      "outputs": [],
      "source": [
        " # COMPARISON OPERATORS   (TRUE OR FALSE)"
      ]
    },
    {
      "cell_type": "code",
      "execution_count": null,
      "metadata": {
        "colab": {
          "base_uri": "https://localhost:8080/"
        },
        "id": "QMGnrKjsTYVV",
        "outputId": "334a0909-97f3-4cd8-9847-121eb0178797"
      },
      "outputs": [
        {
          "data": {
            "text/plain": [
              "True"
            ]
          },
          "execution_count": 29,
          "metadata": {},
          "output_type": "execute_result"
        }
      ],
      "source": [
        "A = 5\n",
        "B = 9\n",
        "C = A+B\n",
        "C < 30"
      ]
    },
    {
      "cell_type": "code",
      "execution_count": null,
      "metadata": {
        "colab": {
          "base_uri": "https://localhost:8080/"
        },
        "id": "-EwbWjj3URtj",
        "outputId": "446f6cb3-5d33-405f-9597-9603246bd574"
      },
      "outputs": [
        {
          "data": {
            "text/plain": [
              "False"
            ]
          },
          "execution_count": 30,
          "metadata": {},
          "output_type": "execute_result"
        }
      ],
      "source": [
        "A = 6\n",
        "B = 12\n",
        "A + B >26"
      ]
    },
    {
      "cell_type": "code",
      "source": [
        " # AIRTHMETIC OPERATORS"
      ],
      "metadata": {
        "id": "Yetm0s3_GVrj"
      },
      "execution_count": null,
      "outputs": []
    },
    {
      "cell_type": "code",
      "source": [
        "56+51   (ADDITION)"
      ],
      "metadata": {
        "colab": {
          "base_uri": "https://localhost:8080/"
        },
        "id": "xXd6I7R6GdBo",
        "outputId": "a0af971c-2000-4d8e-a67a-ff80aa06f251"
      },
      "execution_count": null,
      "outputs": [
        {
          "output_type": "execute_result",
          "data": {
            "text/plain": [
              "107"
            ]
          },
          "metadata": {},
          "execution_count": 50
        }
      ]
    },
    {
      "cell_type": "code",
      "source": [
        "45-26  (SUBTRACTION)"
      ],
      "metadata": {
        "colab": {
          "base_uri": "https://localhost:8080/"
        },
        "id": "CZ-iRKQEGkI0",
        "outputId": "16c708bd-065e-47fe-b9d3-c9ff0cd518bb"
      },
      "execution_count": null,
      "outputs": [
        {
          "output_type": "execute_result",
          "data": {
            "text/plain": [
              "19"
            ]
          },
          "metadata": {},
          "execution_count": 51
        }
      ]
    },
    {
      "cell_type": "code",
      "source": [
        "65*2   (MULTIPLICATION)"
      ],
      "metadata": {
        "colab": {
          "base_uri": "https://localhost:8080/"
        },
        "id": "ozCN-TGTGmdk",
        "outputId": "59d5e84a-1883-41cc-84ac-4395bd399006"
      },
      "execution_count": null,
      "outputs": [
        {
          "output_type": "execute_result",
          "data": {
            "text/plain": [
              "130"
            ]
          },
          "metadata": {},
          "execution_count": 52
        }
      ]
    },
    {
      "cell_type": "code",
      "source": [
        "36/2   (DIVISION)"
      ],
      "metadata": {
        "colab": {
          "base_uri": "https://localhost:8080/"
        },
        "id": "4EqfaPV0GotA",
        "outputId": "90670364-5b9d-4e7f-f0cc-754547253542"
      },
      "execution_count": null,
      "outputs": [
        {
          "output_type": "execute_result",
          "data": {
            "text/plain": [
              "18.0"
            ]
          },
          "metadata": {},
          "execution_count": 53
        }
      ]
    },
    {
      "cell_type": "code",
      "source": [
        "25%6  (REMAINDER)(MODULO)"
      ],
      "metadata": {
        "colab": {
          "base_uri": "https://localhost:8080/"
        },
        "id": "qdc5to5-GsEU",
        "outputId": "3c824a30-80a3-40f6-8d85-e4377049a944"
      },
      "execution_count": null,
      "outputs": [
        {
          "output_type": "execute_result",
          "data": {
            "text/plain": [
              "1"
            ]
          },
          "metadata": {},
          "execution_count": 54
        }
      ]
    },
    {
      "cell_type": "code",
      "source": [
        "45//3  (FLOOR DIVISION)"
      ],
      "metadata": {
        "colab": {
          "base_uri": "https://localhost:8080/"
        },
        "id": "2F7LToPaG2zK",
        "outputId": "382ee5e7-c989-4ed4-95ce-c9f33d5f31eb"
      },
      "execution_count": null,
      "outputs": [
        {
          "output_type": "execute_result",
          "data": {
            "text/plain": [
              "15"
            ]
          },
          "metadata": {},
          "execution_count": 55
        }
      ]
    },
    {
      "cell_type": "code",
      "source": [
        "5**3  (POWER)"
      ],
      "metadata": {
        "colab": {
          "base_uri": "https://localhost:8080/"
        },
        "id": "qHvMbZ1hG7O9",
        "outputId": "97d93eaa-93f5-4380-a216-1bc4b9359283"
      },
      "execution_count": null,
      "outputs": [
        {
          "output_type": "execute_result",
          "data": {
            "text/plain": [
              "125"
            ]
          },
          "metadata": {},
          "execution_count": 56
        }
      ]
    },
    {
      "cell_type": "code",
      "execution_count": null,
      "metadata": {
        "id": "AmvD9BvwUjEH"
      },
      "outputs": [],
      "source": [
        "# Q. How do conditional statements work in Python? Illustrate with examples."
      ]
    },
    {
      "cell_type": "code",
      "execution_count": null,
      "metadata": {
        "colab": {
          "base_uri": "https://localhost:8080/"
        },
        "id": "ByADItg7WrdT",
        "outputId": "f3e04d5c-fb22-4dcc-db9f-529e70757ebf"
      },
      "outputs": [
        {
          "name": "stdout",
          "output_type": "stream",
          "text": [
            "both are right\n"
          ]
        }
      ],
      "source": [
        "A = 36\n",
        "B = 45\n",
        "if A < 50 and B > 30:\n",
        "    print(\"both are right\")"
      ]
    },
    {
      "cell_type": "code",
      "execution_count": null,
      "metadata": {
        "colab": {
          "base_uri": "https://localhost:8080/"
        },
        "id": "YnzWdSkHX9NO",
        "outputId": "9484329d-88fd-48b8-8edd-bfb7a0476ebd"
      },
      "outputs": [
        {
          "name": "stdout",
          "output_type": "stream",
          "text": [
            "both are rejected\n"
          ]
        }
      ],
      "source": [
        "A = 12\n",
        "B = 14\n",
        "if A > 10 or B < 20:\n",
        "  print(\"both are rejected\")"
      ]
    },
    {
      "cell_type": "code",
      "execution_count": null,
      "metadata": {
        "id": "GmP6gHh7Yotz"
      },
      "outputs": [],
      "source": [
        "# (CONDITIONAL)"
      ]
    },
    {
      "cell_type": "code",
      "execution_count": null,
      "metadata": {
        "colab": {
          "base_uri": "https://localhost:8080/"
        },
        "id": "rS4f6tNNcZvp",
        "outputId": "0f582807-814f-4cbf-8a11-6bc4882a5ec0"
      },
      "outputs": [
        {
          "name": "stdout",
          "output_type": "stream",
          "text": [
            "win the match\n"
          ]
        }
      ],
      "source": [
        "X = 35\n",
        "if X < 40:\n",
        "  print(\"win the match\")"
      ]
    },
    {
      "cell_type": "code",
      "execution_count": null,
      "metadata": {
        "colab": {
          "base_uri": "https://localhost:8080/"
        },
        "id": "uDPkoIMQc8uN",
        "outputId": "27c5ab07-03f4-469e-cebd-14d1894fd9ef"
      },
      "outputs": [
        {
          "name": "stdout",
          "output_type": "stream",
          "text": [
            "lost the match\n"
          ]
        }
      ],
      "source": [
        "Y = 96\n",
        "if Y > 100:\n",
        "  print(\"won the match\")\n",
        "\n",
        "else:\n",
        "    print(\"lost the match\")"
      ]
    },
    {
      "cell_type": "code",
      "execution_count": null,
      "metadata": {
        "colab": {
          "base_uri": "https://localhost:8080/"
        },
        "id": "pTx_9Vvrd_oa",
        "outputId": "5b9c963e-310c-498a-a020-952b83a2d683"
      },
      "outputs": [
        {
          "name": "stdout",
          "output_type": "stream",
          "text": [
            "Game is not hockey,football,cricket,soccer\n"
          ]
        }
      ],
      "source": [
        "Game = \"badminton\"\n",
        "if Game == \"hockey\":\n",
        "  print(\"Game is hockey\")\n",
        "elif Game == \"cricket\":\n",
        "  print(\"Game is cricket\")\n",
        "elif Game == \"football\":\n",
        "  print(\"Game is football\")\n",
        "elif Game == \"soccer\":\n",
        "  print(\"Game is soccer\")\n",
        "else:\n",
        "  print(\"Game is not hockey,football,cricket,soccer\")"
      ]
    },
    {
      "cell_type": "code",
      "source": [
        "# Q. Compare and contrast mutable and immutable objects in Python with examples."
      ],
      "metadata": {
        "id": "EZ4WB0-bsV9X"
      },
      "execution_count": null,
      "outputs": []
    },
    {
      "cell_type": "code",
      "source": [
        "\"\"\n",
        "# MUTABLE OBJECTS\n",
        "  #-It means the object that can be change\n",
        "  #.list\n",
        "  #.dic\n",
        "\n",
        "\n",
        "\"\""
      ],
      "metadata": {
        "colab": {
          "base_uri": "https://localhost:8080/",
          "height": 35
        },
        "id": "iEXIqFTwsbmQ",
        "outputId": "8f8fae81-7997-4a8a-db9c-2dd1f68ea920"
      },
      "execution_count": null,
      "outputs": [
        {
          "output_type": "execute_result",
          "data": {
            "text/plain": [
              "''"
            ],
            "application/vnd.google.colaboratory.intrinsic+json": {
              "type": "string"
            }
          },
          "metadata": {},
          "execution_count": 8
        }
      ]
    },
    {
      "cell_type": "code",
      "source": [
        "# EXAMPLES"
      ],
      "metadata": {
        "id": "HisCwfzVEm68"
      },
      "execution_count": null,
      "outputs": []
    },
    {
      "cell_type": "code",
      "source": [
        "sports = ['cricket','football','volleyball']\n",
        "sports"
      ],
      "metadata": {
        "colab": {
          "base_uri": "https://localhost:8080/"
        },
        "id": "zJuxC0QE8Q3i",
        "outputId": "694bcad8-308c-4ba9-ee53-896ddeb07a85"
      },
      "execution_count": null,
      "outputs": [
        {
          "output_type": "execute_result",
          "data": {
            "text/plain": [
              "['cricket', 'football', 'volleyball']"
            ]
          },
          "metadata": {},
          "execution_count": 25
        }
      ]
    },
    {
      "cell_type": "code",
      "source": [
        "print(hex(id(sports)))"
      ],
      "metadata": {
        "colab": {
          "base_uri": "https://localhost:8080/"
        },
        "id": "EayBrzQU9jKc",
        "outputId": "55386954-574c-44d4-85f5-5869a1a4806e"
      },
      "execution_count": null,
      "outputs": [
        {
          "output_type": "stream",
          "name": "stdout",
          "text": [
            "0x7d3fa61e7240\n"
          ]
        }
      ]
    },
    {
      "cell_type": "code",
      "source": [
        "sports"
      ],
      "metadata": {
        "colab": {
          "base_uri": "https://localhost:8080/"
        },
        "id": "zcoqABxi-UKR",
        "outputId": "48dcc31a-af96-4dda-ca5b-545ce1f319de"
      },
      "execution_count": null,
      "outputs": [
        {
          "output_type": "execute_result",
          "data": {
            "text/plain": [
              "['cricket', 'football', 'volleyball']"
            ]
          },
          "metadata": {},
          "execution_count": 27
        }
      ]
    },
    {
      "cell_type": "code",
      "source": [
        "sports.append('badminton')"
      ],
      "metadata": {
        "id": "yU2eGO6B_TJF"
      },
      "execution_count": null,
      "outputs": []
    },
    {
      "cell_type": "code",
      "source": [
        "sports"
      ],
      "metadata": {
        "colab": {
          "base_uri": "https://localhost:8080/"
        },
        "id": "pN6LZN1N_7Ou",
        "outputId": "47aab1a7-acea-4d09-b5ba-3a210ccd65de"
      },
      "execution_count": null,
      "outputs": [
        {
          "output_type": "execute_result",
          "data": {
            "text/plain": [
              "['cricket', 'football', 'volleyball', 'badminton']"
            ]
          },
          "metadata": {},
          "execution_count": 29
        }
      ]
    },
    {
      "cell_type": "code",
      "source": [
        "\"\"\"\n",
        "\n",
        " #IMMUTABLE OBJECTS\n",
        " -It cannot be changed or modified\n",
        "  .tuples\n",
        "  .string\n",
        "  .booleans\n",
        "  .Integer\n",
        "  .float\n",
        "\n",
        "  \"\"\""
      ],
      "metadata": {
        "colab": {
          "base_uri": "https://localhost:8080/",
          "height": 35
        },
        "id": "HWS3c8_R_83y",
        "outputId": "6c9c5e95-75ab-4341-c449-ea3e0b48aa03"
      },
      "execution_count": null,
      "outputs": [
        {
          "output_type": "execute_result",
          "data": {
            "text/plain": [
              "'\\n\\n #IMMUTABLE OBJECTS\\n -It cannot be changed or modified\\n  .tuples\\n  .string\\n  .booleans\\n  .Integer\\n  .float \\n\\n  '"
            ],
            "application/vnd.google.colaboratory.intrinsic+json": {
              "type": "string"
            }
          },
          "metadata": {},
          "execution_count": 38
        }
      ]
    },
    {
      "cell_type": "code",
      "source": [
        "# EXAMPLES"
      ],
      "metadata": {
        "id": "2B_k0Af7EjPd"
      },
      "execution_count": null,
      "outputs": []
    },
    {
      "cell_type": "code",
      "source": [
        "X = 5649"
      ],
      "metadata": {
        "id": "MRWaO74rBdHr"
      },
      "execution_count": null,
      "outputs": []
    },
    {
      "cell_type": "code",
      "source": [
        "print(hex(id(X)))"
      ],
      "metadata": {
        "colab": {
          "base_uri": "https://localhost:8080/"
        },
        "id": "LWQy1weDDQHy",
        "outputId": "84c94f5d-d406-4c19-9b96-7055b6686581"
      },
      "execution_count": null,
      "outputs": [
        {
          "output_type": "stream",
          "name": "stdout",
          "text": [
            "0x7d3fa6239130\n"
          ]
        }
      ]
    },
    {
      "cell_type": "code",
      "source": [
        "X = 2596"
      ],
      "metadata": {
        "id": "8dpvdwTUDdif"
      },
      "execution_count": null,
      "outputs": []
    },
    {
      "cell_type": "code",
      "source": [
        "print(hex(id(X)))"
      ],
      "metadata": {
        "colab": {
          "base_uri": "https://localhost:8080/"
        },
        "id": "IcNyGqL0DiDd",
        "outputId": "458e9af0-f651-4125-e13a-e69d5a372b42"
      },
      "execution_count": null,
      "outputs": [
        {
          "output_type": "stream",
          "name": "stdout",
          "text": [
            "0x7d3fa6239410\n"
          ]
        }
      ]
    },
    {
      "cell_type": "code",
      "source": [
        "my_tuple = '(1,2,3,4)'"
      ],
      "metadata": {
        "id": "SyASc_jcDoKo"
      },
      "execution_count": null,
      "outputs": []
    },
    {
      "cell_type": "code",
      "source": [
        "print(hex(id(my_tuple)))"
      ],
      "metadata": {
        "colab": {
          "base_uri": "https://localhost:8080/"
        },
        "id": "p9X9yPj6D3sp",
        "outputId": "69342db2-d9f9-4dc5-ed26-aac4035e4c1b"
      },
      "execution_count": null,
      "outputs": [
        {
          "output_type": "stream",
          "name": "stdout",
          "text": [
            "0x7d3fa60ce830\n"
          ]
        }
      ]
    },
    {
      "cell_type": "code",
      "source": [
        "my_tuple = '(7,8,9)'"
      ],
      "metadata": {
        "id": "hf98Ao5EEKXo"
      },
      "execution_count": null,
      "outputs": []
    },
    {
      "cell_type": "code",
      "source": [
        "print(hex(id(my_tuple)))"
      ],
      "metadata": {
        "colab": {
          "base_uri": "https://localhost:8080/"
        },
        "id": "VMRrn8XZESEA",
        "outputId": "354ec771-edbf-4b02-c3c5-3ec2318cea9d"
      },
      "execution_count": null,
      "outputs": [
        {
          "output_type": "stream",
          "name": "stdout",
          "text": [
            "0x7d3fa61b56b0\n"
          ]
        }
      ]
    },
    {
      "cell_type": "code",
      "source": [
        "# Q.  Explain the concept of type casting in python with examples."
      ],
      "metadata": {
        "id": "UYRYj72oEeW8"
      },
      "execution_count": null,
      "outputs": []
    },
    {
      "cell_type": "code",
      "source": [
        "#(convert int into float)"
      ],
      "metadata": {
        "id": "4IEn4Yx-IoTl"
      },
      "execution_count": null,
      "outputs": []
    },
    {
      "cell_type": "code",
      "source": [
        "P = 45\n",
        "P= float(45)"
      ],
      "metadata": {
        "id": "YXZRCyUnI1lt"
      },
      "execution_count": null,
      "outputs": []
    },
    {
      "cell_type": "code",
      "source": [
        "type(P)"
      ],
      "metadata": {
        "colab": {
          "base_uri": "https://localhost:8080/"
        },
        "id": "UIpVE-S5JhiZ",
        "outputId": "0d222a46-1ddd-4326-a819-bb17389c7e47"
      },
      "execution_count": null,
      "outputs": [
        {
          "output_type": "execute_result",
          "data": {
            "text/plain": [
              "float"
            ]
          },
          "metadata": {},
          "execution_count": 89
        }
      ]
    },
    {
      "cell_type": "code",
      "source": [
        "# (Convert float into integer)"
      ],
      "metadata": {
        "id": "gldhZF1VJmnn"
      },
      "execution_count": null,
      "outputs": []
    },
    {
      "cell_type": "code",
      "source": [
        "H = 4.3\n",
        "H= int(4.3)"
      ],
      "metadata": {
        "id": "FAKTEDCFJ_7c"
      },
      "execution_count": null,
      "outputs": []
    },
    {
      "cell_type": "code",
      "source": [
        "type(H)"
      ],
      "metadata": {
        "colab": {
          "base_uri": "https://localhost:8080/"
        },
        "id": "IPixgHWnKYuM",
        "outputId": "815b32b0-bca8-41e9-b3aa-5c8ae60efa20"
      },
      "execution_count": null,
      "outputs": [
        {
          "output_type": "execute_result",
          "data": {
            "text/plain": [
              "int"
            ]
          },
          "metadata": {},
          "execution_count": 86
        }
      ]
    },
    {
      "cell_type": "code",
      "source": [
        "# (convert integer into string)"
      ],
      "metadata": {
        "id": "dhG0b9QIKh8z"
      },
      "execution_count": null,
      "outputs": []
    },
    {
      "cell_type": "code",
      "source": [
        "O = 56\n",
        "O = str(56)\n"
      ],
      "metadata": {
        "id": "guwFbibqMHjX"
      },
      "execution_count": null,
      "outputs": []
    },
    {
      "cell_type": "code",
      "source": [
        "type(O)"
      ],
      "metadata": {
        "colab": {
          "base_uri": "https://localhost:8080/"
        },
        "id": "xFv9tTPWMV6n",
        "outputId": "b2bb52b8-a7a8-4bb9-9f87-e75717bfc959"
      },
      "execution_count": null,
      "outputs": [
        {
          "output_type": "execute_result",
          "data": {
            "text/plain": [
              "str"
            ]
          },
          "metadata": {},
          "execution_count": 92
        }
      ]
    },
    {
      "cell_type": "code",
      "source": [
        "# (Convert float into string)"
      ],
      "metadata": {
        "id": "QU6r5xmsMZCV"
      },
      "execution_count": null,
      "outputs": []
    },
    {
      "cell_type": "code",
      "source": [
        "D = 78\n",
        "D = str(78)"
      ],
      "metadata": {
        "id": "0ToifuKqMiuP"
      },
      "execution_count": null,
      "outputs": []
    },
    {
      "cell_type": "code",
      "source": [
        "type(D)"
      ],
      "metadata": {
        "colab": {
          "base_uri": "https://localhost:8080/"
        },
        "id": "kyIOtyg-MpCG",
        "outputId": "c1e3dbc1-4c3f-44ae-e29b-ab2e3ed276d5"
      },
      "execution_count": null,
      "outputs": [
        {
          "output_type": "execute_result",
          "data": {
            "text/plain": [
              "str"
            ]
          },
          "metadata": {},
          "execution_count": 95
        }
      ]
    },
    {
      "cell_type": "code",
      "source": [
        "#(Convert string into integer)"
      ],
      "metadata": {
        "id": "J71KZOZZMq4v"
      },
      "execution_count": null,
      "outputs": []
    },
    {
      "cell_type": "code",
      "source": [
        "K = 12\n",
        "K int(12)    {string will never convert into integer}"
      ],
      "metadata": {
        "colab": {
          "base_uri": "https://localhost:8080/",
          "height": 106
        },
        "id": "mf-P6I5qM-yi",
        "outputId": "82896386-d1db-4489-c1eb-a1bbea75457d"
      },
      "execution_count": null,
      "outputs": [
        {
          "output_type": "error",
          "ename": "SyntaxError",
          "evalue": "invalid syntax (<ipython-input-97-758ed97af866>, line 2)",
          "traceback": [
            "\u001b[0;36m  File \u001b[0;32m\"<ipython-input-97-758ed97af866>\"\u001b[0;36m, line \u001b[0;32m2\u001b[0m\n\u001b[0;31m    K int(12)\u001b[0m\n\u001b[0m      ^\u001b[0m\n\u001b[0;31mSyntaxError\u001b[0m\u001b[0;31m:\u001b[0m invalid syntax\n"
          ]
        }
      ]
    },
    {
      "cell_type": "code",
      "source": [
        "# Q. Describe the different types of loops in Python and their use cases with examples."
      ],
      "metadata": {
        "id": "z6tMP3K-NFWM"
      },
      "execution_count": null,
      "outputs": []
    },
    {
      "cell_type": "code",
      "source": [
        "\"\"\"\n",
        "for loop\n",
        "\n",
        "\"\"\"\n"
      ],
      "metadata": {
        "colab": {
          "base_uri": "https://localhost:8080/",
          "height": 35
        },
        "id": "IfkrPbP9PgZs",
        "outputId": "18463630-e58e-4ad5-ff0a-f9843875c8f2"
      },
      "execution_count": null,
      "outputs": [
        {
          "output_type": "execute_result",
          "data": {
            "text/plain": [
              "'\\nfor loop\\n\\n'"
            ],
            "application/vnd.google.colaboratory.intrinsic+json": {
              "type": "string"
            }
          },
          "metadata": {},
          "execution_count": 110
        }
      ]
    },
    {
      "cell_type": "code",
      "source": [
        "Vehicles = [\"car\", \"bike\", \"scooter\",\"plane\"]\n",
        "for vehicle in Vehicles:\n",
        "  print(vehicle)"
      ],
      "metadata": {
        "colab": {
          "base_uri": "https://localhost:8080/"
        },
        "id": "nDcXU5x3Pu23",
        "outputId": "fb5fecf8-5536-43e0-f92e-972f95495422"
      },
      "execution_count": null,
      "outputs": [
        {
          "output_type": "stream",
          "name": "stdout",
          "text": [
            "car\n",
            "bike\n",
            "scooter\n",
            "plane\n"
          ]
        }
      ]
    },
    {
      "cell_type": "code",
      "source": [
        "Countries =[\"India\", \"America\",\"Australia\",\"France\"]\n",
        "for country in Countries:\n",
        "  print(country)"
      ],
      "metadata": {
        "colab": {
          "base_uri": "https://localhost:8080/"
        },
        "id": "ee5E9O3NQGiA",
        "outputId": "1e4b08f3-abd0-4bae-e555-d66d1236dc94"
      },
      "execution_count": null,
      "outputs": [
        {
          "output_type": "stream",
          "name": "stdout",
          "text": [
            "India\n",
            "America\n",
            "Australia\n",
            "France\n"
          ]
        }
      ]
    },
    {
      "cell_type": "code",
      "source": [
        "\"\"\"\n",
        "while loop\n",
        "\n",
        "\"\"\""
      ],
      "metadata": {
        "colab": {
          "base_uri": "https://localhost:8080/",
          "height": 35
        },
        "id": "KTJxZ_ilRyuq",
        "outputId": "11814836-afff-4721-ad8d-dd156d86c601"
      },
      "execution_count": null,
      "outputs": [
        {
          "output_type": "execute_result",
          "data": {
            "text/plain": [
              "'\\nwhile loop\\n\\n'"
            ],
            "application/vnd.google.colaboratory.intrinsic+json": {
              "type": "string"
            }
          },
          "metadata": {},
          "execution_count": 111
        }
      ]
    },
    {
      "cell_type": "code",
      "source": [
        "T = 30\n",
        "while T <=40:\n",
        "  print(T)\n",
        "  T = T+1"
      ],
      "metadata": {
        "colab": {
          "base_uri": "https://localhost:8080/"
        },
        "id": "Ja4Jm1sRSX6c",
        "outputId": "f0f60941-b415-47ac-faba-e94f50eb461a"
      },
      "execution_count": null,
      "outputs": [
        {
          "output_type": "stream",
          "name": "stdout",
          "text": [
            "30\n",
            "31\n",
            "32\n",
            "33\n",
            "34\n",
            "35\n",
            "36\n",
            "37\n",
            "38\n",
            "39\n",
            "40\n"
          ]
        }
      ]
    },
    {
      "cell_type": "code",
      "source": [
        "M = 12\n",
        "while M <= 20:\n",
        "  print(M)\n",
        "  M = M+1"
      ],
      "metadata": {
        "colab": {
          "base_uri": "https://localhost:8080/"
        },
        "id": "8W9WMHGITw1h",
        "outputId": "f77a26e6-4fe5-44a1-d294-cb9f0b4f2f93"
      },
      "execution_count": null,
      "outputs": [
        {
          "output_type": "stream",
          "name": "stdout",
          "text": [
            "12\n",
            "13\n",
            "14\n",
            "15\n",
            "16\n",
            "17\n",
            "18\n",
            "19\n",
            "20\n"
          ]
        }
      ]
    },
    {
      "cell_type": "code",
      "source": [],
      "metadata": {
        "id": "4EgQGB2zUee1"
      },
      "execution_count": null,
      "outputs": []
    }
  ],
  "metadata": {
    "colab": {
      "provenance": []
    },
    "kernelspec": {
      "display_name": "Python 3",
      "name": "python3"
    },
    "language_info": {
      "name": "python"
    }
  },
  "nbformat": 4,
  "nbformat_minor": 0
}